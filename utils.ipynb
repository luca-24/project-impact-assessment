{
 "cells": [
  {
   "cell_type": "code",
   "execution_count": null,
   "metadata": {},
   "outputs": [],
   "source": [
    "from spacy.tokens import Doc, Span\n",
    "from scipy.spatial.distance import cosine\n",
    "import numpy as np"
   ]
  },
  {
   "cell_type": "code",
   "execution_count": null,
   "metadata": {},
   "outputs": [],
   "source": [
    "clean_labels_mapping = {'1': 0,\n",
    "                        '2': 1,\n",
    "                        '3': 2,\n",
    "                        '4': 3,\n",
    "                        '5': 4,\n",
    "                        '6': 5,\n",
    "                        '7': 6,\n",
    "                        '10': 7,\n",
    "                        '11': 8,\n",
    "                        '12': 9,\n",
    "                        '13': 10,\n",
    "                        '14': 11,\n",
    "                        '15': 12,\n",
    "                        '16': 13}\n",
    "\n",
    "\n",
    "goal_name_mapping = {0: 'No Poverty',\n",
    "                     1: 'Zero Hunger',\n",
    "                     2: 'Good Health and Well Being',\n",
    "                     3: 'Quality Education',\n",
    "                     4: 'Gender Equality',\n",
    "                     5: 'Clean Water and Sanitation',\n",
    "                     6: 'Affordable and Clean Energy',\n",
    "                     7: 'Reduced Inequalities',\n",
    "                     8: 'Sustainable Cities and Communities',\n",
    "                     9: 'Responsible Consumption and Production',\n",
    "                     10: 'Climate Action',\n",
    "                     11: 'Life Below Water',\n",
    "                     12: 'Life on Land',\n",
    "                     13: 'Peace, Justice and Strong Institutions'}\n",
    "\n",
    "goal_color_mapping = {0: 'Red',\n",
    "                      1: 'Gold',\n",
    "                      2: 'MediumAquamarine',\n",
    "                      3: 'Orange',\n",
    "                      4: 'Pink',\n",
    "                      5: 'Cyan',\n",
    "                      6: 'Lime',\n",
    "                      7: 'DeepPink',\n",
    "                      8: 'CadetBlue',\n",
    "                      9: 'DarkKhaki',\n",
    "                      10: 'Green',\n",
    "                      11: 'Blue',\n",
    "                      12: 'Peru',\n",
    "                      13: 'Indigo'}"
   ]
  },
  {
   "cell_type": "code",
   "execution_count": null,
   "metadata": {},
   "outputs": [],
   "source": [
    "\"\"\"\n",
    "Set the extended atributes and methods that are used throughout the code.\n",
    "\"\"\"\n",
    "def set_spacy_extensions():\n",
    "    Doc.set_extension('project_id', default=None, force=True)\n",
    "    Doc.set_extension('project_title', default=None, force=True)\n",
    "    Doc.set_extension('goal_labels', default='', force=True)\n",
    "    Doc.set_extension('custom_vector', default=None, force=True)\n",
    "    Span.set_extension('custom_vector', default=None, force=True)\n",
    "    Doc.set_extension('word_relevances', default=[], force=True)\n",
    "    Span.set_extension('word_relevances', default=[], force=True)\n",
    "    Doc.set_extension('predicted_goal_scores', default=None, force=True)\n",
    "    Doc.set_extension('custom_similarity', method=custom_similarity, force=True)\n",
    "    Span.set_extension('custom_similarity', method=custom_similarity, force=True)"
   ]
  },
  {
   "cell_type": "code",
   "execution_count": null,
   "metadata": {},
   "outputs": [],
   "source": [
    "\"\"\"\n",
    "Creates an extended method for the class Doc. Returns the cosine similarity (1 - distance) between the custom vectors of two spacy documents.\n",
    "\"\"\"\n",
    "def custom_similarity(doc, other_doc):\n",
    "    return 1 - cosine(doc._.custom_vector, other_doc._.custom_vector)"
   ]
  },
  {
   "cell_type": "code",
   "execution_count": null,
   "metadata": {},
   "outputs": [],
   "source": [
    "\"\"\"\n",
    "Utility function that, depending on the values of the parameters \"description\", \"facts\" and \"targets\", selects the textual content of the goals contained in a pandas DataFrame and returns the concatenated texts in a list.\n",
    "\"\"\"\n",
    "def get_goal_texts(goals_df, description=True, facts=True, targets=True):\n",
    "    assert description or facts or targets\n",
    "    goal_texts = []\n",
    "    for index, row in goals_df.iterrows():\n",
    "        text = ''\n",
    "        if description:\n",
    "            text += row['description'] + ' '\n",
    "        if facts:\n",
    "            text += row['facts'] + ' '\n",
    "        if targets:\n",
    "            text += row['targets']\n",
    "        goal_texts.append(text)\n",
    "    return goal_texts"
   ]
  },
  {
   "cell_type": "code",
   "execution_count": null,
   "metadata": {},
   "outputs": [],
   "source": [
    "def unit_vector(vector):\n",
    "    \"\"\" Returns the unit vector of the vector.  \"\"\"\n",
    "    return vector / np.linalg.norm(vector)"
   ]
  },
  {
   "cell_type": "code",
   "execution_count": null,
   "metadata": {},
   "outputs": [],
   "source": [
    "def angle_between(v1, v2):\n",
    "    \"\"\" Returns the angle in radians between vectors 'v1' and 'v2'::\n",
    "\n",
    "            >>> angle_between((1, 0, 0), (0, 1, 0))\n",
    "            1.5707963267948966\n",
    "            >>> angle_between((1, 0, 0), (1, 0, 0))\n",
    "            0.0\n",
    "            >>> angle_between((1, 0, 0), (-1, 0, 0))\n",
    "            3.141592653589793\n",
    "    \"\"\"\n",
    "    v1_u = unit_vector(v1)\n",
    "    v2_u = unit_vector(v2)\n",
    "    return np.arccos(np.clip(np.dot(v1_u, v2_u), -1.0, 1.0))"
   ]
  }
 ],
 "metadata": {
  "kernelspec": {
   "display_name": ".venv",
   "language": "python",
   "name": ".venv"
  },
  "language_info": {
   "codemirror_mode": {
    "name": "ipython",
    "version": 3
   },
   "file_extension": ".py",
   "mimetype": "text/x-python",
   "name": "python",
   "nbconvert_exporter": "python",
   "pygments_lexer": "ipython3",
   "version": "3.7.3"
  }
 },
 "nbformat": 4,
 "nbformat_minor": 2
}
