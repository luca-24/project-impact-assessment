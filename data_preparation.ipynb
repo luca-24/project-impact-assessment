{
 "cells": [
  {
   "cell_type": "markdown",
   "metadata": {},
   "source": [
    "## Data Preparation\n",
    "\n",
    "We filter and prepare the data downloaded from http://ris3mcat.gencat.cat.\n",
    "\n",
    "We perform:\n",
    "- attribute selection\n",
    "- filtering based on language (English)\n",
    "- duplicate removal"
   ]
  },
  {
   "cell_type": "markdown",
   "metadata": {},
   "source": [
    "### ATTENTION\n",
    "\n",
    "SDG 8 (decent work and economic growth), SDG 9 (industry, innovation and infrastructure) and SDS 17 (alliance for objectives) have been excluded originally in the dataset, as they would have no effect on data filtering, given that these three objectives are inherent in all the collaborative R & D & I projects that make up the Platform."
   ]
  },
  {
   "cell_type": "code",
   "execution_count": null,
   "metadata": {
    "scrolled": true
   },
   "outputs": [],
   "source": [
    "import pandas\n",
    "import numpy as np\n",
    "import spacy, en_core_web_sm, en_core_web_lg\n",
    "from spacy_langdetect import LanguageDetector"
   ]
  },
  {
   "cell_type": "code",
   "execution_count": null,
   "metadata": {},
   "outputs": [],
   "source": [
    "projects_df = pandas.read_csv('data/ris3-mcat-projects.csv')\n",
    "\n",
    "projects_df = projects_df[['projectId', 'projectTitle', 'projectAbstract', 'sdgName']]\n",
    "projects_df = projects_df.sort_values(by=['projectId'], ignore_index=True)\n",
    "projects_df.head(20)"
   ]
  },
  {
   "cell_type": "code",
   "execution_count": null,
   "metadata": {},
   "outputs": [],
   "source": [
    "nlp = en_core_web_lg.load()\n",
    "nlp.add_pipe(LanguageDetector(), name='language_detector', last=True)\n",
    "\n",
    "new_matrix = []\n",
    "\n",
    "previous_pid = 'xxxxx'\n",
    "start_index = 0\n",
    "for index, row in projects_df.iterrows():\n",
    "    \n",
    "    if index < 1:\n",
    "        continue\n",
    "        \n",
    "    if row['projectId'] != previous_pid:\n",
    "            \n",
    "        doc = nlp(row['projectAbstract'])\n",
    "        if doc._.language['language'] not in ('en','es'):\n",
    "            print(row['projectAbstract'])\n",
    "            print()\n",
    "            goals = []\n",
    "            for g in list(projects_df.sdgName[start_index:index]):\n",
    "                if type(g) == type('str'):\n",
    "                    g = g.split()[1][:-1]\n",
    "                    goals.append(g)\n",
    "\n",
    "            goals = list(set(goals))\n",
    "            goals = ','.join(goals)\n",
    "            new_row = [previous_pid, projects_df['projectTitle'][index-1], projects_df['projectAbstract'][index-1], goals]\n",
    "            \n",
    "            #new_row = list(row[['projectId','projectTitle','projectAbstract']]) + [goals]\n",
    "                      \n",
    "            new_matrix.append(new_row)\n",
    "            \n",
    "        previous_pid = row['projectId']\n",
    "        start_index = index\n",
    "        \n",
    "new_df = pandas.DataFrame(data=new_matrix, columns=projects_df.columns)\n",
    "new_df.head(50)"
   ]
  },
  {
   "cell_type": "code",
   "execution_count": null,
   "metadata": {},
   "outputs": [],
   "source": [
    "new_df.to_csv('data/ris3-mcat-projects-cleaned-catalan.csv', index=False, sep='\\t')"
   ]
  },
  {
   "cell_type": "code",
   "execution_count": null,
   "metadata": {},
   "outputs": [],
   "source": [
    "new_df.head(50)\n",
    "print(len(new_df['projectId']))"
   ]
  },
  {
   "cell_type": "code",
   "execution_count": null,
   "metadata": {},
   "outputs": [],
   "source": [
    "goals_df = pandas.read_excel('data/un-goals.xlsx')\n",
    "goals_df.head(20)"
   ]
  }
 ],
 "metadata": {
  "kernelspec": {
   "display_name": ".venv",
   "language": "python",
   "name": ".venv"
  },
  "language_info": {
   "codemirror_mode": {
    "name": "ipython",
    "version": 3
   },
   "file_extension": ".py",
   "mimetype": "text/x-python",
   "name": "python",
   "nbconvert_exporter": "python",
   "pygments_lexer": "ipython3",
   "version": "3.7.3"
  }
 },
 "nbformat": 4,
 "nbformat_minor": 4
}
